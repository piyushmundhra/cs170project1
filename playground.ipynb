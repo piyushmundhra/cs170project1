{
 "metadata": {
  "language_info": {
   "codemirror_mode": {
    "name": "ipython",
    "version": 3
   },
   "file_extension": ".py",
   "mimetype": "text/x-python",
   "name": "python",
   "nbconvert_exporter": "python",
   "pygments_lexer": "ipython3",
   "version": 3
  },
  "orig_nbformat": 2
 },
 "nbformat": 4,
 "nbformat_minor": 2,
 "cells": [
  {
   "cell_type": "code",
   "execution_count": null,
   "metadata": {},
   "outputs": [],
   "source": [
    "import pandas as pd\n",
    "\n",
    "doubleSpaces = [4,6,8]\n",
    "\n",
    "# returns the set of possible moves\n",
    "def possibleMoves(board):\n",
    "    for i in range(9):\n",
    "        board.find(i)\n",
    "        if i in doubleSpaces: \n",
    "            \n",
    "\n",
    "\n",
    "# executes a possible move\n",
    "def move(pos):\n",
    "    \n",
    "    pass\n",
    "\n",
    "# creates a standard board\n",
    "def createBoard():\n",
    "    board = [[0] for i in range(10)]\n",
    "    for i in range(9): board[i+1][0] = i\n",
    "    board\n",
    "    return board"
   ]
  }
 ]
}