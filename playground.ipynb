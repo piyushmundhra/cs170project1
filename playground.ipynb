{
 "metadata": {
  "language_info": {
   "codemirror_mode": {
    "name": "ipython",
    "version": 3
   },
   "file_extension": ".py",
   "mimetype": "text/x-python",
   "name": "python",
   "nbconvert_exporter": "python",
   "pygments_lexer": "ipython3",
   "version": "3.8.3-final"
  },
  "orig_nbformat": 2,
  "kernelspec": {
   "name": "python3",
   "display_name": "Python 3.8.3 64-bit ('env': venv)",
   "metadata": {
    "interpreter": {
     "hash": "78e43faec1d1121aa9983fa384f2895627e20e2e1a0a7479b5c14ce082bb127f"
    }
   }
  }
 },
 "nbformat": 4,
 "nbformat_minor": 2,
 "cells": [
  {
   "cell_type": "code",
   "execution_count": 73,
   "metadata": {},
   "outputs": [],
   "source": [
    "import pandas as pd\n",
    "\n",
    "doubleSpaces = [4,6,8]\n",
    "doubleIndices = [11,12,13]\n",
    "\n",
    "# returns the set of possible moves\n",
    "# board - list of size 13 expected\n",
    "\n",
    "def possibleMoves(board):\n",
    "    moves = []\n",
    "    for i in range(12):\n",
    "\n",
    "        # move down\n",
    "        if i in doubleIndices and board[ doubleSpaces[ doubleIndices.index(i) ] ] == 0:\n",
    "            moves.append( [i, doubleSpaces[doubleIndices.index(i)]] )\n",
    "\n",
    "        # move up (only singular move possible)\n",
    "        if i in doubleSpaces and board[ doubleIndices[ doubleSpaces.index(i) ] ] == 0:\n",
    "            moves.append( [i, doubleIndices[doubleSpaces.index(i)]] )\n",
    "\n",
    "        # move left\n",
    "        if board[i-1] == 0:\n",
    "            moves.append((i, i-1))\n",
    "\n",
    "        # move right\n",
    "        if board[i+1]  == 0:\n",
    "            moves.append((i, i+1))\n",
    "\n",
    "\n",
    "# executes a valid move\n",
    "# move - tuple (previous position, new position)\n",
    "# board - list of size 13 expected\n",
    "def move(board, move):\n",
    "    \n",
    "    pass\n",
    "\n",
    "# creates a standard board\n",
    "# first position is not usable\n",
    "def createBoard():\n",
    "    board = [0 for i in range(14)]\n",
    "    for i in range(2,10): board[i] = i\n",
    "    board[0] = -1\n",
    "    board[10] = 1\n",
    "    return board\n",
    "\n",
    "def displayBoard(board):\n",
    "    a = pd.Series(board[1:11])\n",
    "    b = pd.Series([' ',' ',' ',board[11], ' ', board[12], ' ', board[13], ' ', ' '])\n",
    "    df = pd.DataFrame([b,a])\n",
    "    return df\n"
   ]
  },
  {
   "cell_type": "code",
   "execution_count": 74,
   "metadata": {},
   "outputs": [
    {
     "output_type": "execute_result",
     "data": {
      "text/plain": [
       "[-1, 0, 2, 3, 4, 5, 6, 7, 8, 9, 1, 0, 0, 0]"
      ]
     },
     "metadata": {},
     "execution_count": 74
    }
   ],
   "source": [
    "createBoard()"
   ]
  },
  {
   "cell_type": "code",
   "execution_count": 78,
   "metadata": {},
   "outputs": [
    {
     "output_type": "stream",
     "name": "stdout",
     "text": [
      "      0   0   0    \n0 2 3 4 5 6 7 8 9 1\n"
     ]
    }
   ],
   "source": [
    "print(displayBoard(createBoard()).to_string(index=False, header=False))"
   ]
  },
  {
   "cell_type": "code",
   "execution_count": null,
   "metadata": {},
   "outputs": [],
   "source": []
  }
 ]
}